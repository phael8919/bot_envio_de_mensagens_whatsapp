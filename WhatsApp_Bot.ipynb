{
 "cells": [
  {
   "cell_type": "markdown",
   "id": "c5b73b1b-520f-4604-9d49-a97be62ab632",
   "metadata": {},
   "source": [
    "# Bot de envio de mensagens em massa pelo WhatsApp"
   ]
  },
  {
   "cell_type": "code",
   "execution_count": 1,
   "id": "b6ffc618-b754-44c1-8e3c-e58cb20d9097",
   "metadata": {},
   "outputs": [],
   "source": [
    "import openpyxl\n",
    "from urllib.parse import quote\n",
    "import webbrowser\n",
    "from time import sleep\n",
    "import pyautogui\n",
    "import os \n",
    "\n",
    "#Abre o navegador\n",
    "webbrowser.open('https://web.whatsapp.com/')\n",
    "sleep(15)\n",
    "\n",
    "#Lê a planilha e guarda informações sobre nome, telefone e data de vencimento\n",
    "workbook = openpyxl.load_workbook('clientes.xlsx')\n",
    "pagina_clientes = workbook['Plan1']\n",
    "\n",
    "for linha in pagina_clientes.iter_rows(min_row=2):\n",
    "    try:\n",
    "        # nome, telefone, vencimento\n",
    "        nome = linha[0].value\n",
    "        telefone = linha[1].value\n",
    "        vencimento = linha[2].value\n",
    "        \n",
    "        mensagem = f'Olá, {nome} seu boleto vence no dia {vencimento.strftime(\"%d/%m/%Y\")}. Favor pagar no link https://www.google.com.br'\n",
    "    \n",
    "        #Cria links personalizados do whatsapp e envia mensagens para cada cliente\n",
    "        #com base nos dados da planilha    \n",
    "        link_mensagem_whatsapp = f'https://web.whatsapp.com/send?phone={telefone}&text={quote(mensagem)}'\n",
    "        webbrowser.open(link_mensagem_whatsapp)\n",
    "        sleep(15) \n",
    "        \n",
    "        #pyautogui.click(x=1851, y=971) #Posicione os valores da 1ª célula aqui\n",
    "        #Envia a mensagem\n",
    "        pyautogui.press('enter')\n",
    "        sleep(5)\n",
    "\n",
    "        #Fechaa\n",
    "        pyautogui.hotkey('ctrl','w') \n",
    "        sleep(5)\n",
    "    except:\n",
    "        #print(f'Não foi possível enviar mensagem para {nome}')\n",
    "        #Cria um arquivo listando para quem não foi enviado mensagem\n",
    "        with open('erros.csv','a',newline='',encoding='utf-8') as arquivo:\n",
    "            arquivo.write(f'{nome},{telefone}{os.linesep}')"
   ]
  }
 ],
 "metadata": {
  "kernelspec": {
   "display_name": "Python 3 (ipykernel)",
   "language": "python",
   "name": "python3"
  },
  "language_info": {
   "codemirror_mode": {
    "name": "ipython",
    "version": 3
   },
   "file_extension": ".py",
   "mimetype": "text/x-python",
   "name": "python",
   "nbconvert_exporter": "python",
   "pygments_lexer": "ipython3",
   "version": "3.12.4"
  }
 },
 "nbformat": 4,
 "nbformat_minor": 5
}
