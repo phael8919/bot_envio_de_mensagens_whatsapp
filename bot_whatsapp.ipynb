{
 "cells": [
  {
   "cell_type": "code",
   "execution_count": 1,
   "id": "8f36ec4f-9f9c-4931-b4db-28cb873e00d6",
   "metadata": {},
   "outputs": [
    {
     "ename": "SyntaxError",
     "evalue": "invalid syntax (598747008.py, line 2)",
     "output_type": "error",
     "traceback": [
      "\u001b[1;36m  Cell \u001b[1;32mIn[1], line 2\u001b[1;36m\u001b[0m\n\u001b[1;33m    from selenium.common.\u001b[0m\n\u001b[1;37m                         ^\u001b[0m\n\u001b[1;31mSyntaxError\u001b[0m\u001b[1;31m:\u001b[0m invalid syntax\n"
     ]
    }
   ],
   "source": [
    "from selenium import webdriver\n",
    "from selenium.common.\n",
    "import pyautogui\n",
    "nav = webdriver.Chrome()\n",
    "pyautogui.sleep(3)\n",
    "nav.get(\"https://api.whatsapp.com/send/?phone=5531971073990\")"
   ]
  },
  {
   "cell_type": "code",
   "execution_count": 2,
   "id": "dbca5827-b742-4439-bad5-10f602b3af49",
   "metadata": {},
   "outputs": [
    {
     "name": "stdout",
     "output_type": "stream",
     "text": [
      "In 46 Seconds WhatsApp will open and after 15 Seconds Message will be Delivered!\n"
     ]
    }
   ],
   "source": [
    "import pywhatkit\n",
    "\n",
    "# Número de telefone do destinatário (formato: +55XXXXXXXXXX)\n",
    "phone_number = \"+5531971073990\"\n",
    "message = \"Mensagem de teste\"\n",
    "attachment = \"/caminho/para/arquivo.pdf\"  # Opcional: anexar um arquivo\n",
    "#?pywhatkit.sendwhatmsg\n",
    "pywhatkit.sendwhatmsg(phone_number, message,16,5)"
   ]
  },
  {
   "cell_type": "code",
   "execution_count": 1,
   "id": "d7a21912-4bdd-48ab-bd00-e67248b8df23",
   "metadata": {},
   "outputs": [
    {
     "name": "stdout",
     "output_type": "stream",
     "text": [
      "Requirement already satisfied: openpyxl in c:\\users\\administrativo37\\appdata\\local\\anaconda3\\lib\\site-packages (3.1.2)\n",
      "Requirement already satisfied: et-xmlfile in c:\\users\\administrativo37\\appdata\\local\\anaconda3\\lib\\site-packages (from openpyxl) (1.1.0)\n"
     ]
    }
   ],
   "source": [
    "!pip install openpyxl"
   ]
  },
  {
   "cell_type": "code",
   "execution_count": 2,
   "id": "e878edd3-d3df-4bb4-91a0-0d8204a3c346",
   "metadata": {},
   "outputs": [
    {
     "name": "stdout",
     "output_type": "stream",
     "text": [
      "Requirement already satisfied: pyautogui in c:\\users\\administrativo37\\appdata\\local\\anaconda3\\lib\\site-packages (0.9.54)\n",
      "Requirement already satisfied: pymsgbox in c:\\users\\administrativo37\\appdata\\local\\anaconda3\\lib\\site-packages (from pyautogui) (1.0.9)\n",
      "Requirement already satisfied: pytweening>=1.0.4 in c:\\users\\administrativo37\\appdata\\local\\anaconda3\\lib\\site-packages (from pyautogui) (1.2.0)\n",
      "Requirement already satisfied: pyscreeze>=0.1.21 in c:\\users\\administrativo37\\appdata\\local\\anaconda3\\lib\\site-packages (from pyautogui) (0.1.30)\n",
      "Requirement already satisfied: pygetwindow>=0.0.5 in c:\\users\\administrativo37\\appdata\\local\\anaconda3\\lib\\site-packages (from pyautogui) (0.0.9)\n",
      "Requirement already satisfied: mouseinfo in c:\\users\\administrativo37\\appdata\\local\\anaconda3\\lib\\site-packages (from pyautogui) (0.1.3)\n",
      "Requirement already satisfied: pyrect in c:\\users\\administrativo37\\appdata\\local\\anaconda3\\lib\\site-packages (from pygetwindow>=0.0.5->pyautogui) (0.2.0)\n",
      "Requirement already satisfied: pyperclip in c:\\users\\administrativo37\\appdata\\local\\anaconda3\\lib\\site-packages (from mouseinfo->pyautogui) (1.9.0)\n"
     ]
    }
   ],
   "source": [
    "!pip install pyautogui"
   ]
  },
  {
   "cell_type": "code",
   "execution_count": 22,
   "id": "ce118cfa-c59c-4963-95ff-ea3a63e7d7bf",
   "metadata": {},
   "outputs": [
    {
     "name": "stdout",
     "output_type": "stream",
     "text": [
      "Requirement already satisfied: pillow in c:\\users\\administrativo37\\appdata\\local\\anaconda3\\lib\\site-packages (10.3.0)\n",
      "Requirement already satisfied: pillow in c:\\users\\administrativo37\\appdata\\local\\anaconda3\\lib\\site-packages (10.3.0)\n"
     ]
    }
   ],
   "source": [
    "!pip install pillow"
   ]
  },
  {
   "cell_type": "markdown",
   "id": "86069247-5650-4d69-9c64-c31b08c72acc",
   "metadata": {},
   "source": [
    "# Código do programa abaixo:"
   ]
  },
  {
   "cell_type": "code",
   "execution_count": 37,
   "id": "abd507bb-c312-409d-8d7b-d12fa1e715eb",
   "metadata": {},
   "outputs": [],
   "source": [
    "import openpyxl\n",
    "from urllib.parse import quote\n",
    "import webbrowser\n",
    "from time import sleep\n",
    "import pyautogui\n",
    "import os \n",
    "\n",
    "\n",
    "webbrowser.open('https://web.whatsapp.com/')\n",
    "sleep(20)\n",
    "\n",
    "# Ler planilha e guardar informações sobre nome, telefone e data de vencimento\n",
    "workbook = openpyxl.load_workbook('clientes.xlsx')\n",
    "pagina_clientes = workbook['Plan1']\n",
    "\n",
    "for linha in pagina_clientes.iter_rows(min_row=2):\n",
    "    # nome, telefone, vencimento\n",
    "    nome = linha[0].value\n",
    "    telefone = linha[1].value\n",
    "    vencimento = linha[2].value\n",
    "    \n",
    "    mensagem = f'Olá, {nome} seu boleto vence no dia {vencimento.strftime(\"%d/%m/%Y\")}. Favor pagar no link https://www.google.com.br'\n",
    "\n",
    "    # Criar links personalizados do whatsapp e enviar mensagens para cada cliente\n",
    "    # com base nos dados da planilha\n",
    "    try:\n",
    "        link_mensagem_whatsapp = f'https://web.whatsapp.com/send?phone={telefone}&text={quote(mensagem)}'\n",
    "        webbrowser.open(link_mensagem_whatsapp)\n",
    "        sleep(20)\n",
    "        #seta = pyautogui.locateCenterOnScreen('seta.png')\n",
    "        #sleep(20)\n",
    "        #pyautogui.click(seta[0],seta[1])\n",
    "        pyautogui.click(x=1851, y=971)\n",
    "        sleep(10)\n",
    "        pyautogui.hotkey('ctrl','w')\n",
    "        sleep(10)\n",
    "    except:\n",
    "        print(f'Não foi possível enviar mensagem para {nome}')\n",
    "        with open('erros.csv','a',newline='',encoding='utf-8') as arquivo:\n",
    "            arquivo.write(f'{nome},{telefone}{os.linesep}')"
   ]
  },
  {
   "cell_type": "code",
   "execution_count": 34,
   "id": "a70526c0-6d79-41b4-b9d1-f7ce8d64fce7",
   "metadata": {},
   "outputs": [],
   "source": [
    "workbook = openpyxl.load_workbook('clientes.xlsx')\n",
    "pagina_clientes = workbook['Plan1']\n",
    "\n",
    "nome = pagina_clientes[\"a2\"].value\n",
    "telefone = pagina_clientes[\"b2\"].value\n",
    "vencimento = pagina_clientes[\"c2\"].value\n",
    "\n",
    "mensagem = f'Olá, {nome} seu boleto vence no dia {vencimento.strftime(\"%d/%m/%Y\")}. Favor pagar no link https://www.uol.com.br'\n",
    "webbrowser.open('https://web.whatsapp.com/')\n",
    "sleep(20)\n",
    "\n",
    "link_mensagem_whatsapp = f'https://web.whatsapp.com/send?phone={telefone}&text={quote(mensagem)}'\n",
    "webbrowser.open(link_mensagem_whatsapp)\n",
    "sleep(10)\n",
    "pyautogui.click(x=1851, y=971)\n",
    "#seta = pyautogui.locateCenterOnScreen('C:\\\\Users\\\\administrativo37\\\\Desktop\\\\Bot_Whatsapp\\\\seta2.png')\n",
    "#sleep(20)\n",
    "\n",
    "sleep(20)\n",
    "pyautogui.hotkey('ctrl','w')"
   ]
  },
  {
   "cell_type": "code",
   "execution_count": 24,
   "id": "50010af1-cfb6-4a57-b8ae-b21766218b68",
   "metadata": {},
   "outputs": [
    {
     "name": "stdout",
     "output_type": "stream",
     "text": [
      "Raphael\n"
     ]
    }
   ],
   "source": [
    "workbook = openpyxl.load_workbook('clientes.xlsx')\n",
    "pagina_clientes = workbook['Plan1']\n",
    "\n",
    "nome = pagina_clientes[\"a2\"].value\n",
    "print(nome)"
   ]
  },
  {
   "cell_type": "code",
   "execution_count": null,
   "id": "9c0a41ae-6021-462e-b412-30d741f5171f",
   "metadata": {},
   "outputs": [],
   "source": []
  },
  {
   "cell_type": "code",
   "execution_count": 2,
   "id": "8362cb82-756f-4386-8f50-8e3999bdeb47",
   "metadata": {},
   "outputs": [
    {
     "data": {
      "text/plain": [
       "Point(x=1839, y=968)"
      ]
     },
     "execution_count": 2,
     "metadata": {},
     "output_type": "execute_result"
    }
   ],
   "source": [
    "from time import sleep\n",
    "import pyautogui\n",
    "\n",
    "sleep(6)\n",
    "pyautogui.position()"
   ]
  }
 ],
 "metadata": {
  "kernelspec": {
   "display_name": "Python 3 (ipykernel)",
   "language": "python",
   "name": "python3"
  },
  "language_info": {
   "codemirror_mode": {
    "name": "ipython",
    "version": 3
   },
   "file_extension": ".py",
   "mimetype": "text/x-python",
   "name": "python",
   "nbconvert_exporter": "python",
   "pygments_lexer": "ipython3",
   "version": "3.12.4"
  }
 },
 "nbformat": 4,
 "nbformat_minor": 5
}
